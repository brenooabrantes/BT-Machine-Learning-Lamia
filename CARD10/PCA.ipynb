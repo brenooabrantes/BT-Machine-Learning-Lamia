{
 "cells": [
  {
   "cell_type": "markdown",
   "metadata": {
    "deletable": true,
    "editable": true
   },
   "source": [
    "# Principal Component Analysis"
   ]
  },
  {
   "cell_type": "markdown",
   "metadata": {
    "deletable": true,
    "editable": true
   },
   "source": "PCA é uma técnica de redução de dimensões que serve para simplificar um conjunto de dados para encontrar informaçõe específicas, no exemplo que iremos abordar, irá sair de um quadro com quatro dimensões para duas, deixando mais fácil a visualização dos dados que queremos."
  },
  {
   "cell_type": "code",
   "metadata": {
    "collapsed": false,
    "deletable": true,
    "editable": true,
    "ExecuteTime": {
     "end_time": "2024-10-23T21:01:54.357341Z",
     "start_time": "2024-10-23T21:01:54.351461Z"
    }
   },
   "source": [
    "from clyent import color\n",
    "from sklearn.datasets import load_iris\n",
    "from sklearn.decomposition import PCA\n",
    "import pylab as pl\n",
    "from itertools import cycle\n",
    "\n",
    "iris = load_iris()\n",
    "\n",
    "numSamples, numFeatures = iris.data.shape\n",
    "print(numSamples)\n",
    "print(numFeatures)\n",
    "print(list(iris.target_names))"
   ],
   "outputs": [
    {
     "name": "stdout",
     "output_type": "stream",
     "text": [
      "150\n",
      "4\n",
      "['setosa', 'versicolor', 'virginica']\n"
     ]
    }
   ],
   "execution_count": 2
  },
  {
   "cell_type": "markdown",
   "metadata": {
    "deletable": true,
    "editable": true
   },
   "source": ""
  },
  {
   "metadata": {},
   "cell_type": "markdown",
   "source": "No código acima usamos uma função da biblioteca do sklearn para verificarmos o número de dimensões (que são 4) e a quantidade de exemplares (150), já os nomes se referem as espécies-alvos da análise, das 150 essas 3 são as principais que dividem todas as outras."
  },
  {
   "cell_type": "code",
   "metadata": {
    "collapsed": false,
    "deletable": true,
    "editable": true,
    "ExecuteTime": {
     "end_time": "2024-10-23T21:01:59.836858Z",
     "start_time": "2024-10-23T21:01:59.832833Z"
    }
   },
   "source": [
    "X = iris.data\n",
    "pca = PCA(n_components=2, whiten=True).fit(X)\n",
    "X_pca = pca.transform(X)"
   ],
   "outputs": [],
   "execution_count": 4
  },
  {
   "cell_type": "markdown",
   "metadata": {
    "deletable": true,
    "editable": true
   },
   "source": "X é a variável que irá carregar todos nosso dados anteriormente puxados e criamos um modelo de PCA, que possuem as especificações de (n_components=2) 2 dimensões, e whiten=true para normalizar os dados e os deixar organizados. Em seguida uma variável para guardar o pca criado a partir dos dados X."
  },
  {
   "cell_type": "code",
   "metadata": {
    "collapsed": false,
    "deletable": true,
    "editable": true,
    "ExecuteTime": {
     "end_time": "2024-10-23T19:47:01.463215Z",
     "start_time": "2024-10-23T19:47:01.459708Z"
    }
   },
   "source": [
    "print(pca.components_)"
   ],
   "outputs": [
    {
     "name": "stdout",
     "output_type": "stream",
     "text": [
      "[[ 0.36138659 -0.08452251  0.85667061  0.3582892 ]\n",
      " [ 0.65658877  0.73016143 -0.17337266 -0.07548102]]\n"
     ]
    }
   ],
   "execution_count": 6
  },
  {
   "cell_type": "markdown",
   "metadata": {
    "deletable": true,
    "editable": true
   },
   "source": "Aqui os valores após conversão"
  },
  {
   "cell_type": "code",
   "metadata": {
    "collapsed": false,
    "deletable": true,
    "editable": true,
    "ExecuteTime": {
     "end_time": "2024-10-23T19:48:38.217703Z",
     "start_time": "2024-10-23T19:48:38.213889Z"
    }
   },
   "source": [
    "print(pca.explained_variance_ratio_)\n",
    "print(sum(pca.explained_variance_ratio_))"
   ],
   "outputs": [
    {
     "name": "stdout",
     "output_type": "stream",
     "text": [
      "[0.92461872 0.05306648]\n",
      "0.9776852063187949\n"
     ]
    }
   ],
   "execution_count": 7
  },
  {
   "cell_type": "markdown",
   "metadata": {
    "deletable": true,
    "editable": true
   },
   "source": "Aqui averiguamos o quanto há de preservação dos dados, sendo assim temos 92% de dados preservados na primeira dimensão e uma variação de 5% na segunda, sendo assim, 97% de preservação total dos dados"
  },
  {
   "metadata": {},
   "cell_type": "markdown",
   "source": "No código abaixo criamos um mapa para observamos os dados, primeiro a paleta de cores sendo rgb (red green blue) e mapeando pelos nomes das espécies, fazemos a iteração para cada espécie acompanhar uma cor, seu dado que os transformamos a visualização em bidimensional e geramos o mapa scatter, e assim printamos a legenda e o mapa."
  },
  {
   "metadata": {},
   "cell_type": "code",
   "outputs": [],
   "execution_count": null,
   "source": ""
  },
  {
   "cell_type": "code",
   "metadata": {
    "collapsed": false,
    "deletable": true,
    "editable": true,
    "ExecuteTime": {
     "end_time": "2024-10-23T19:56:27.102057Z",
     "start_time": "2024-10-23T19:56:27.008563Z"
    }
   },
   "source": [
    "%matplotlib inline\n",
    "from pylab import *\n",
    "\n",
    "colors = cycle('rgb')\n",
    "target_ids = range(len(iris.target_names))\n",
    "pl.figure()\n",
    "for i, c, label in zip(target_ids, colors, iris.target_names):\n",
    "    pl.scatter(X_pca[iris.target == i, 0], X_pca[iris.target == i, 1],\n",
    "        c=c, label=label)\n",
    "pl.legend()\n",
    "pl.show()\n",
    "    "
   ],
   "outputs": [
    {
     "data": {
      "text/plain": [
       "<Figure size 640x480 with 1 Axes>"
      ],
      "image/png": "[encoded data removed]"
     },
     "metadata": {},
     "output_type": "display_data"
    }
   ],
   "execution_count": 9
  },
  {
   "cell_type": "markdown",
   "metadata": {
    "deletable": true,
    "editable": true
   },
   "source": [
    "## Activity"
   ]
  },
  {
   "cell_type": "code",
   "metadata": {
    "collapsed": false,
    "deletable": true,
    "editable": true,
    "ExecuteTime": {
     "end_time": "2024-10-23T20:23:27.613551Z",
     "start_time": "2024-10-23T20:23:27.606870Z"
    }
   },
   "source": [
    "from sklearn.datasets import load_iris\n",
    "from sklearn.decomposition import PCA\n",
    "import pylab as pl\n",
    "from itertools import cycle\n",
    "\n",
    "iris = load_iris()\n",
    "\n",
    "numSamples, numFeatures = iris.data.shape\n",
    "print(numSamples)\n",
    "print(numFeatures)\n",
    "print(list(iris.target_names))\n",
    "%matplotlib inline\n"
   ],
   "outputs": [
    {
     "name": "stdout",
     "output_type": "stream",
     "text": [
      "150\n",
      "4\n",
      "['setosa', 'versicolor', 'virginica']\n"
     ]
    }
   ],
   "execution_count": 52
  },
  {
   "metadata": {
    "ExecuteTime": {
     "end_time": "2024-10-23T20:17:30.709518Z",
     "start_time": "2024-10-23T20:17:30.704814Z"
    }
   },
   "cell_type": "code",
   "source": [
    "X = iris.data \n",
    "pca = PCA(n_components=1, whiten=True).fit(X) #1 componente\n",
    "X_pca = pca.transform(X)"
   ],
   "outputs": [],
   "execution_count": 49
  },
  {
   "metadata": {
    "ExecuteTime": {
     "end_time": "2024-10-23T20:17:31.867139Z",
     "start_time": "2024-10-23T20:17:31.863676Z"
    }
   },
   "cell_type": "code",
   "source": "print(pca.components_)",
   "outputs": [
    {
     "name": "stdout",
     "output_type": "stream",
     "text": [
      "[[ 0.36138659 -0.08452251  0.85667061  0.3582892 ]]\n"
     ]
    }
   ],
   "execution_count": 50
  },
  {
   "metadata": {
    "ExecuteTime": {
     "end_time": "2024-10-23T20:14:02.468884Z",
     "start_time": "2024-10-23T20:14:02.465023Z"
    }
   },
   "cell_type": "code",
   "source": [
    "print(pca.explained_variance_ratio_)\n",
    "print(sum(pca.explained_variance_ratio_))"
   ],
   "outputs": [
    {
     "name": "stdout",
     "output_type": "stream",
     "text": [
      "[0.92461872 0.05306648 0.01710261]\n",
      "0.9947878161267246\n"
     ]
    }
   ],
   "execution_count": 41
  },
  {
   "metadata": {
    "ExecuteTime": {
     "end_time": "2024-10-23T20:17:34.186561Z",
     "start_time": "2024-10-23T20:17:34.088033Z"
    }
   },
   "cell_type": "code",
   "source": [
    "%matplotlib inline\n",
    "from pylab import *\n",
    "\n",
    "colors = cycle('rgb')\n",
    "target_ids = range(len(iris.target_names))\n",
    "pl.figure()\n",
    "\n",
    "for i, c, label in zip(target_ids, colors, iris.target_names):\n",
    "    pl.scatter(X_pca[iris.target == i, 0], [0] * sum(iris.target == i),  #setando para apenas um componente (1 dimensão) \n",
    "               c=c, label=label)\n",
    "    \n",
    "pl.legend()\n",
    "pl.show()"
   ],
   "outputs": [
    {
     "data": {
      "text/plain": [
       "<Figure size 640x480 with 1 Axes>"
      ],
      "image/png": "[encoded data removed]"
     },
     "metadata": {},
     "output_type": "display_data"
    }
   ],
   "execution_count": 51
  },
  {
   "metadata": {},
   "cell_type": "markdown",
   "source": [
    "Aqui é feito o teste com apenas uma dimensão, vemos uma disparidade muito grande da espécie setosa\n",
    "por estar em um grande extremo em relação as outras duas espécies, que estão mais próximas entre si, observando \n",
    "até que a virginica está até num ponto mais extremo que a versicolor, que é um ponto médio em relação as outra duas.\n",
    "Não de forma incontestável, haja visto que seja apenas uma unica dimensao de gráfico, mas é uma das abordagens que\n",
    "se pode ter."
   ]
  }
 ],
 "metadata": {
  "kernelspec": {
   "display_name": "Python 3",
   "language": "python",
   "name": "python3"
  },
  "language_info": {
   "codemirror_mode": {
    "name": "ipython",
    "version": 3
   },
   "file_extension": ".py",
   "mimetype": "text/x-python",
   "name": "python",
   "nbconvert_exporter": "python",
   "pygments_lexer": "ipython3",
   "version": "3.5.2"
  }
 },
 "nbformat": 4,
 "nbformat_minor": 0
}
